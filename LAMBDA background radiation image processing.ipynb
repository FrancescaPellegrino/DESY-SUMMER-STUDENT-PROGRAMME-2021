{
 "cells": [
  {
   "cell_type": "markdown",
   "metadata": {},
   "source": [
    "# LAMBDA BACKGROUND RADIATION IMAGE PROCESSING"
   ]
  },
  {
   "cell_type": "markdown",
   "metadata": {},
   "source": [
    "## Code related to the DESY Summer School 2021 final report"
   ]
  },
  {
   "cell_type": "markdown",
   "metadata": {},
   "source": [
    "##### Author: Francesca Pellegrino"
   ]
  },
  {
   "cell_type": "markdown",
   "metadata": {},
   "source": [
    "Final report avaible on the \"student work reports\" section of the site DESY Summer Student Programme 2021 https://summerstudents.desy.de/"
   ]
  },
  {
   "cell_type": "markdown",
   "metadata": {},
   "source": [
    "NOTE: All the LAMBDA images used come from: https://desycloud.desy.de/index.php/s/AbMwJZDWJS5HJmT"
   ]
  },
  {
   "cell_type": "code",
   "execution_count": 1,
   "metadata": {},
   "outputs": [],
   "source": [
    "import cv2 as cv\n",
    "\n",
    "# code by David Pennicard  \n",
    "import numpy as np\n",
    "import h5py\n",
    "import matplotlib.pyplot as plt\n",
    "import os \n",
    "\n",
    "# code by Vahid Rahmani  \n",
    "import os\n",
    "import h5py\n",
    "from PIL import Image\n",
    "import sys\n",
    "import numpy as np\n",
    "import skimage.color\n",
    "import skimage.io\n",
    "from matplotlib import pyplot as plt\n",
    "import matplotlib.patches as patches\n",
    "import cv2\n",
    "import itertools\n",
    "#from timer import Timer\n",
    "import time\n",
    "import threading"
   ]
  },
  {
   "cell_type": "code",
   "execution_count": 2,
   "metadata": {},
   "outputs": [],
   "source": [
    "# ========== CODE PROVIDED BY DAVID PENNICARD, DESY, FS-DS GROUP ==========\n",
    "# Read images from a file, with optional arguments to choose an image range\n",
    "def LoadImages(filename, imstart = 0, imend = None):\n",
    "    fh5 = h5py.File(filename, \"r\", driver = \"stdio\")\n",
    "    dstream = fh5[\"/entry/instrument/detector/data\"]\n",
    "    if imend == None:\n",
    "        images = np.array(dstream[imstart:,:,:])\n",
    "    else:\n",
    "        image = np.array(dstream[imstart:imend,:,:])\n",
    "    del fh5\n",
    "    return images\n",
    "\n",
    "def PlotImageExample(filename):\n",
    "    # Illustrative example of plotting images\n",
    "    imagedata = LoadImages(filename)\n",
    "    plt.figure()\n",
    "    plt.imshow(imagedata[0,:,:],vmin = 0, vmax = 2) \n",
    "    plt.show()  # display it\n",
    "#========== CODE PROVIDED BY DAVID PENNICARD, DESY, FS-DS GROUP =========="
   ]
  },
  {
   "cell_type": "code",
   "execution_count": 3,
   "metadata": {},
   "outputs": [],
   "source": [
    "# Replace the images path\n",
    "fig10 = LoadImages('C:\\\\Users\\\\utente\\\\Desktop\\\\DESY Summer School 2021\\\\PROGETTO\\\\Files\\\\background\\\\Lambda_background_10s_00001.nxs')\n",
    "fig100 = LoadImages('C:\\\\Users\\\\utente\\\\Desktop\\\\DESY Summer School 2021\\\\PROGETTO\\\\Files\\\\background\\\\Lambda_background_100ms_00000.nxs')\n",
    "fig300 = LoadImages('C:\\\\Users\\\\utente\\\\Desktop\\\\DESY Summer School 2021\\\\PROGETTO\\\\Files\\\\background\\\\Lambda_background_300s_00000.nxs')"
   ]
  },
  {
   "cell_type": "code",
   "execution_count": 4,
   "metadata": {},
   "outputs": [],
   "source": [
    "#Select the three images for the report\n",
    "report = [fig100[68,:,:], fig10[18,:,:], fig300[18,:,:]]\n",
    "\n",
    "#Select image for examples\n",
    "exp = fig300[18,:,:]"
   ]
  },
  {
   "cell_type": "markdown",
   "metadata": {},
   "source": [
    "### MORPHOLOGICAL TECHNIQUES"
   ]
  },
  {
   "cell_type": "code",
   "execution_count": 5,
   "metadata": {},
   "outputs": [],
   "source": [
    "# TEST MORPHOLOGICAL TECHNIQUES\n",
    "\n",
    "# Kernels\n",
    "kernel_2 = np.ones((2,2), np.uint8)\n",
    "kernel_3 = np.ones((3,3), np.uint8)\n",
    "kernel_5 = np.ones((5,5), np.uint8)\n",
    "kernel_10 = np.ones((10,10), np.uint8)"
   ]
  },
  {
   "cell_type": "markdown",
   "metadata": {},
   "source": [
    "EROSION"
   ]
  },
  {
   "cell_type": "code",
   "execution_count": 6,
   "metadata": {},
   "outputs": [],
   "source": [
    "# erode2 = cv.erode(exp, kernel_2)\n",
    "# erode3 = cv.erode(exp, kernel_3)\n",
    "# erode5 = cv.erode(exp, kernel_5)\n",
    "# erode10 = cv.erode(exp, kernel_10)\n",
    "\n",
    "# plt.imshow(exp, vmin = 0, vmax = 2);\n",
    "# plt.title(\"original\");\n",
    "# plt.figure()\n",
    "# plt.imshow(erode2, vmin = 0, vmax = 2);\n",
    "# plt.title(\"erode 2\");\n",
    "# plt.figure()\n",
    "# plt.imshow(erode3, vmin = 0, vmax = 2);\n",
    "# plt.title(\"erode 3\");\n",
    "# plt.figure()\n",
    "# plt.imshow(erode5, vmin = 0, vmax = 2);\n",
    "# plt.title(\"erode 5\");\n",
    "# plt.figure()\n",
    "# plt.imshow(erode10, vmin = 0, vmax = 2);\n",
    "# plt.title(\"erode 10\");"
   ]
  },
  {
   "cell_type": "markdown",
   "metadata": {},
   "source": [
    "DILATION"
   ]
  },
  {
   "cell_type": "code",
   "execution_count": 7,
   "metadata": {},
   "outputs": [],
   "source": [
    "# dilate2 = cv.dilate(exp, kernel_2)\n",
    "# dilate3 = cv.dilate(exp, kernel_3)\n",
    "# dilate5 = cv.dilate(exp, kernel_5)\n",
    "# dilate10 = cv.dilate(exp, kernel_10)\n",
    "\n",
    "# plt.imshow(exp, vmin = 0, vmax = 2);\n",
    "# plt.title(\"original\");\n",
    "# plt.figure()\n",
    "# plt.imshow(dilate2, vmin = 0, vmax = 2);\n",
    "# plt.title(\"dilate 2\");\n",
    "# plt.figure()\n",
    "# plt.imshow(dilate3, vmin = 0, vmax = 2);\n",
    "# plt.title(\"dilate 3\");\n",
    "# plt.figure()\n",
    "# plt.imshow(dilate5, vmin = 0, vmax = 2);\n",
    "# plt.title(\"dilate 5\");\n",
    "# plt.figure()\n",
    "# plt.imshow(dilate10, vmin = 0, vmax = 2);\n",
    "# plt.title(\"dilate 10\");"
   ]
  },
  {
   "cell_type": "markdown",
   "metadata": {},
   "source": [
    "OPENING"
   ]
  },
  {
   "cell_type": "code",
   "execution_count": 8,
   "metadata": {},
   "outputs": [],
   "source": [
    "# open2 = cv.morphologyEx(exp, cv.MORPH_OPEN, kernel_2)\n",
    "# open3 = cv.morphologyEx(exp, cv.MORPH_OPEN, kernel_3)\n",
    "# open5 = cv.morphologyEx(exp, cv.MORPH_OPEN, kernel_5)\n",
    "# open10 = cv.morphologyEx(exp, cv.MORPH_OPEN, kernel_10)\n",
    "\n",
    "# plt.imshow(exp, vmin = 0, vmax = 2);\n",
    "# plt.title(\"original\");\n",
    "# plt.figure()\n",
    "# plt.imshow(open2, vmin = 0, vmax = 2);\n",
    "# plt.title(\"open 2\");\n",
    "# plt.figure()\n",
    "# plt.imshow(open3, vmin = 0, vmax = 2);\n",
    "# plt.title(\"open 3\");\n",
    "# plt.figure()\n",
    "# plt.imshow(open5, vmin = 0, vmax = 2);\n",
    "# plt.title(\"open 5\");\n",
    "# plt.figure()\n",
    "# plt.imshow(open10, vmin = 0, vmax = 2);\n",
    "# plt.title(\"open 10\");"
   ]
  },
  {
   "cell_type": "markdown",
   "metadata": {},
   "source": [
    "CLOSING"
   ]
  },
  {
   "cell_type": "code",
   "execution_count": 9,
   "metadata": {},
   "outputs": [],
   "source": [
    "# close2 = cv.morphologyEx(exp, cv.MORPH_CLOSE, kernel_2)\n",
    "# close3 = cv.morphologyEx(exp, cv.MORPH_CLOSE, kernel_3)\n",
    "# close5 = cv.morphologyEx(exp, cv.MORPH_CLOSE, kernel_5)\n",
    "# close10 = cv.morphologyEx(exp, cv.MORPH_CLOSE, kernel_10)\n",
    "\n",
    "# plt.imshow(exp, vmin = 0, vmax = 2);\n",
    "# plt.title(\"original\");\n",
    "# plt.figure()\n",
    "# plt.imshow(close2, vmin = 0, vmax = 2);\n",
    "# plt.title(\"close 2\");\n",
    "# plt.figure()\n",
    "# plt.imshow(close3, vmin = 0, vmax = 2);\n",
    "# plt.title(\"close 3\");\n",
    "# plt.figure()\n",
    "# plt.imshow(close5, vmin = 0, vmax = 2);\n",
    "# plt.title(\"close 5\");\n",
    "# plt.figure()\n",
    "# plt.imshow(close10, vmin = 0, vmax = 2);\n",
    "# plt.title(\"close 10\");"
   ]
  },
  {
   "cell_type": "markdown",
   "metadata": {},
   "source": [
    "MEDIAN FILTER"
   ]
  },
  {
   "cell_type": "code",
   "execution_count": 10,
   "metadata": {},
   "outputs": [],
   "source": [
    "# med3 = cv.medianBlur(exp, 3) \n",
    "# med5 = cv.medianBlur(exp, 5)\n",
    "\n",
    "# plt.imshow(exp, vmin = 0, vmax = 2);\n",
    "# plt.title(\"original\");\n",
    "# plt.figure()\n",
    "# plt.imshow(med2, vmin = 0, vmax = 2);\n",
    "# plt.title(\"median 2\");\n",
    "# plt.figure()\n",
    "# plt.imshow(med5, vmin = 0, vmax = 2);\n",
    "# plt.title(\"median 5\");"
   ]
  },
  {
   "cell_type": "markdown",
   "metadata": {},
   "source": [
    "### POINT AND LINE DETECTION "
   ]
  },
  {
   "cell_type": "markdown",
   "metadata": {},
   "source": [
    "POINT DETECTION"
   ]
  },
  {
   "cell_type": "code",
   "execution_count": 11,
   "metadata": {},
   "outputs": [],
   "source": [
    "bri = []\n",
    "for n in range(0, len(report)):\n",
    "    bri.append(np.where(report[n][:,:] > 4000))\n",
    "\n",
    "coo = []\n",
    "for k in range(0, len(bri)):\n",
    "    for j in range(0,len(bri[k][0])):\n",
    "        y = bri[k][0][j]\n",
    "        x = bri[k][1][j]\n",
    "        coo.append(list(zip([k], [y], [x])))\n",
    "        \n",
    "        \n",
    "image_with_spot = []\n",
    "for k in range(0,len(report)):\n",
    "    image_with_spot.append(np.copy(report[k]))\n",
    "    \n",
    "    \n",
    "for spot in coo:\n",
    "    for n,y,x in spot:\n",
    "        cv.line(image_with_spot[n], (x,y),(x,y),(255, 255, 0), thickness=8)\n",
    "        \n",
    "        \n",
    "# for k in range(0, len(report)):\n",
    "#     plt.figure()\n",
    "#     plt.imshow(report[k],vmin = 0, vmax = 2);\n",
    "#     plt.figure()\n",
    "#     plt.imshow(image_with_spot[k],vmin = 0, vmax = 2);"
   ]
  },
  {
   "cell_type": "markdown",
   "metadata": {},
   "source": [
    "LINE DETECTION (HOUGH TRANSFORM)"
   ]
  },
  {
   "cell_type": "code",
   "execution_count": 12,
   "metadata": {},
   "outputs": [],
   "source": [
    "rho = 1  # distance resolution in pixels of the Hough grid\n",
    "theta = np.pi / 180  # angular resolution in radians of the Hough grid\n",
    "threshold = 15  # minimum number of votes (intersections in Hough grid cell)\n",
    "min_line_length = 15  # minimum number of pixels making up a line\n",
    "max_line_gap = 5  # maximum gap in pixels between connectable line segments\n",
    "\n",
    "lines = []\n",
    "for img in report:\n",
    "    img = np.uint8(img)\n",
    "    lines.append(cv.HoughLinesP(img, rho, theta, threshold, np.array([]), min_line_length, max_line_gap))\n",
    "    \n",
    "    \n",
    "\n",
    "def draw_lines(img, lines):\n",
    "    img = np.copy(img)\n",
    "    blank_image = np.zeros((img.shape[0], img.shape[1]), dtype=np.uint8)\n",
    "    \n",
    "    for line in lines:\n",
    "        for n in range(0,len(line)):\n",
    "            l = list(line[n])\n",
    "            cv.line(blank_image, (l[0],l[1]),(l[2],l[3]),(255, 255, 0), thickness=2)\n",
    "            img = cv.addWeighted(img, 1, blank_image, 1, 0.0, dtype = cv.CV_32F)   \n",
    "\n",
    "    return img\n",
    "\n",
    "\n",
    "\n",
    "image_with_lines = []\n",
    "for n in range(0, len(report)):\n",
    "    try:\n",
    "        image = np.copy(report[n])\n",
    "        image = draw_lines(report[n], lines[n])\n",
    "        image_with_lines.append(image)\n",
    "    except:\n",
    "        image_with_lines.append(report[n])\n",
    "\n",
    "# for k in range(0, len(line_test)):\n",
    "#     plt.figure()\n",
    "#     plt.imshow(line_test[k],vmin = 0, vmax = 2);\n",
    "#     plt.figure()\n",
    "#     plt.imshow(image_with_lines[k],vmin = 0, vmax = 2);"
   ]
  },
  {
   "cell_type": "markdown",
   "metadata": {},
   "source": [
    "### MORPHOLOGICAL PREPROCESSING"
   ]
  },
  {
   "cell_type": "code",
   "execution_count": 13,
   "metadata": {},
   "outputs": [],
   "source": [
    "# DILATION \n",
    "mp_d = []\n",
    "for img in report:\n",
    "    mp_d.append(cv.dilate(img, kernel_2))"
   ]
  },
  {
   "cell_type": "code",
   "execution_count": 14,
   "metadata": {},
   "outputs": [],
   "source": [
    "# CLOSING\n",
    "mp_d_c = []\n",
    "for img in mp_d:\n",
    "    mp_d_c.append(cv.morphologyEx(img, cv.MORPH_CLOSE, kernel_2))"
   ]
  },
  {
   "cell_type": "code",
   "execution_count": 15,
   "metadata": {},
   "outputs": [],
   "source": [
    "# MEDIAN BLUR\n",
    "mp_d_c_b = []\n",
    "for img in mp_d_c:\n",
    "    mp_d_c_b.append(cv.medianBlur(img, 3))"
   ]
  },
  {
   "cell_type": "code",
   "execution_count": 16,
   "metadata": {},
   "outputs": [],
   "source": [
    "# Print original and preprocessed images\n",
    "# for i in range(0, len(mp_d_c_b)):\n",
    "#     plt.figure()\n",
    "#     plt.imshow(report[i], vmin = 0, vmax = 2);\n",
    "#     plt.title(\"original\");\n",
    "#     plt.figure()\n",
    "#     plt.imshow(mp_d_c_b[i], vmin = 0, vmax = 2);\n",
    "#     plt.title(\"preprocessed\");"
   ]
  },
  {
   "cell_type": "markdown",
   "metadata": {},
   "source": [
    "### BLOB LABELING"
   ]
  },
  {
   "cell_type": "code",
   "execution_count": 17,
   "metadata": {},
   "outputs": [],
   "source": [
    "# ========== CODE PROVIDED BY VAHID RAHMANI, DESY, FS-DS GROUP ==========\n",
    "\n",
    "# proc=\"p1\"\n",
    "# done = False\n",
    "# def animate():\n",
    "#     for c in itertools.cycle(['|', '/', '-', '\\\\']):\n",
    "#         if done:\n",
    "#             break\n",
    "#         sys.stdout.write('\\rprocessing --> ' + proc+' '+c + ':')\n",
    "#         sys.stdout.flush()\n",
    "#         time.sleep(0.1)\n",
    "#     sys.stdout.write('\\rDone!     ')\n",
    "\n",
    "#--------------------------------------------\n",
    "def LoadImages(filename, imstart = 0, imend = None):\n",
    "    fh5 = h5py.File(filename, \"r\", driver = \"stdio\")\n",
    "    dstream = fh5[\"/entry/instrument/detector/data\"]\n",
    "    if imend == None:\n",
    "        images = np.array(dstream[imstart:,:,:])\n",
    "    else:\n",
    "        image = np.array(dstream[imstart:imend,:,:])\n",
    "    del fh5\n",
    "    return images\n",
    "\n",
    "def PlotImageExample(filename):\n",
    "    # Illustrative example of plotting images\n",
    "    imagedata = LoadImages(filename)\n",
    "    plt.figure()\n",
    "    plt.imshow(imagedata[0,:,:],vmin = 0, vmax = 2) \n",
    "    plt.show()  # display it\n",
    "\n",
    "#-----------------------------------------------    \n",
    " \n",
    "image = Image.open('img1.png') #Load your images\n",
    "image = image.convert('RGB')\n",
    "\n",
    "\n",
    "#============================================================\n",
    "\n",
    "def draw_rectangel(x1,y1,x2,y2):\n",
    "    rect = patches.Rectangle((x1,y1),\n",
    "                 x2,\n",
    "                 y2,\n",
    "                 linewidth=2,\n",
    "                 edgecolor='cyan',\n",
    "                 fill = False)\n",
    "\n",
    "    return rect\n",
    "#==============================================================\n",
    "\n",
    "w = image.size[0] #define W and H\n",
    "h = image.size[1]\n",
    "pix_flag = np.zeros( (w*h, 5),dtype=np.int32 )\n",
    "\n",
    "T=w\n",
    "L=100\n",
    "\n",
    "for y in range(0, h): \n",
    "    for x in range(0, w):\n",
    "        pix_flag[(T*y)+x,0]=(T*y)+x  # set pixel id \n",
    "        pix_flag[(T*y)+x,1]=0        # class\n",
    "        pix_flag[(T*y)+x,2]=x        # X position\n",
    "        pix_flag[(T*y)+x,3]=y        # Y position\n",
    "        pix_flag[(T*y)+x,4]=0        # segment id\n",
    "        #pix_flag[(T*y)+x,5]=0        # Class id\n",
    "\n",
    "# proc= \"\\nComputing Clusters (blobs) : \"\n",
    "# t = threading.Thread(target=animate)\n",
    "# t.start()\n",
    "\n",
    "for y in range(2, h-2): \n",
    "    row = \"\"\n",
    "    for x in range(2, w-2):\n",
    "        #L=L+1  \n",
    "        if pix_flag[(T*y)+x,4]==0:\n",
    "            pix_flag[(T*y)+x,4]=1\n",
    "\n",
    "            RGB = image.getpixel((x,y))\n",
    "            R,G,B = RGB    \n",
    "            #-----------------------------\n",
    "            if R>0 or G>0 or B>0:\n",
    "               # right = image.getpixel((x+1,y))\n",
    "                left = image.getpixel((x-1,y))\n",
    "                up = image.getpixel((x,y-1))\n",
    "                #down = image.getpixel((x,y+1))\n",
    "                leftUp=image.getpixel((x-1,y-1))\n",
    "                rightUp=image.getpixel((x+1,y-1))\n",
    "\n",
    "                # if RGB==right:\n",
    "                #    # L=pix_flag[(T*y)+(x+1)]\n",
    "                #     pix_flag[(T*y)+(x),1]=L\n",
    "                #     pix_flag[(T*y)+(x+1),1]=L\n",
    "                #     #pix_flag[(T*y)+(x+1),4]=1\n",
    "\n",
    "\n",
    "                if RGB==left:\n",
    "                    L=pix_flag[(T*y)+(x-1),1]\n",
    "                    pix_flag[(T*y)+(x),1]=L\n",
    "                    #pix_flag[(T*y)+(x-1),1]=L\n",
    "                    #pix_flag[(T*y)+(x-1),4]=1  \n",
    "\n",
    "                elif RGB==up:\n",
    "                    \n",
    "                    L=pix_flag[(T*(y-1))+(x),1]\n",
    "                    pix_flag[(T*y)+(x),1]=L\n",
    "                    #pix_flag[(T*(y-1))+(x),1]=L\n",
    "                    #pix_flag[(T*(y-1))+(x),4]=1 \n",
    "                \n",
    "                elif RGB==leftUp:\n",
    "                    L=pix_flag[(T*(y-1))+(x-1),1]\n",
    "                    pix_flag[(T*y)+(x),1]=L\n",
    "                    #pix_flag[(T*(y-1))+(x),1]=L\n",
    "                    #pix_flag[(T*(y-1))+(x),4]=1 \n",
    "                \n",
    "                elif RGB==rightUp:\n",
    "                    L=pix_flag[(T*(y-1))+(x+1),1]\n",
    "                    pix_flag[(T*y)+(x),1]=L\n",
    "                    #pix_flag[(T*(y-1))+(x),1]=L\n",
    "                    #pix_flag[(T*(y-1))+(x),4]=1     \n",
    "\n",
    "                # elif RGB==down:\n",
    "                #     pix_flag[(T*y)+(x),1]=L\n",
    "                #     pix_flag[(T*(y+1))+(x),1]=L\n",
    "                #     #pix_flag[(T*(y+1))+(x),4]=1\n",
    "\n",
    "                else:\n",
    "                    pix_flag[(T*y)+(x),1]=L\n",
    "                    #pix_flag[(T*y)+(x),4]=1     \n",
    "\n",
    "            L=L+1      \n",
    "\n",
    "\n",
    "            #-----------------------------\n",
    "        \n",
    "\n",
    "# time.sleep(10)\n",
    "# done = True\n",
    "\n",
    "# proc=\"\\nPrinting Cluster's details : \"\n",
    "# t = threading.Thread(target=animate)\n",
    "# t.start()\n",
    "\n",
    "\n",
    "dat_list=[]\n",
    "cluster_list=[]\n",
    "for s in range(0, len(pix_flag)):\n",
    "    if pix_flag[s][1]!=0:\n",
    "        dat_list.append(pix_flag[s])\n",
    "        cluster_list.append(pix_flag[s][1])\n",
    "\n",
    "\n",
    "print('\\ninx   G_ID    X   Y   flag')\n",
    "print('-----------------------')\n",
    "for s in range(0, len(dat_list)):\n",
    "    print(dat_list[s])\n",
    "\n",
    "\n",
    "\n",
    "print('-----------------------\\n')\n",
    "\n",
    "# time.sleep(10)\n",
    "# done = True\n",
    "\n",
    "cluster_id = []\n",
    "for x in cluster_list:\n",
    "    if x not in cluster_id:\n",
    "        cluster_id.append(x)\n",
    "print('Number of clusters: ',len(cluster_id))\n",
    "\n",
    "\n",
    "# proc=\"\\nPloting Cluster's region : \"\n",
    "# t = threading.Thread(target=animate)\n",
    "# t.start()\n",
    "\n",
    "\n",
    "pos_list=[]\n",
    "pos = np.zeros( (len(cluster_id), 4),dtype=np.int32 )\n",
    "min=0\n",
    "max=0\n",
    "for c in range(0, len(cluster_id)):\n",
    "    c_id=cluster_id[c]\n",
    "    for s in range(0, len(pix_flag)):\n",
    "        if pix_flag[s][1]==c_id:\n",
    "           pos[c][0]= pix_flag[s][2]\n",
    "           pos[c][1]=pix_flag[s][3]   \n",
    "           break\n",
    "\n",
    "    for s in range(0, len(pix_flag)):\n",
    "        if pix_flag[s][1]==c_id:\n",
    "           pos[c][2]= pix_flag[s][2]\n",
    "           pos[c][3]=pix_flag[s][3] \n",
    "\n",
    "    \n",
    "    #pos_list.append(pos)        \n",
    "        \n",
    "# time.sleep(10)\n",
    "# done = True\n",
    "print('-------------------\\n')\n",
    "print('Clusters area:')\n",
    "print('\\nX1   Y1    X2   Y2')\n",
    "print('-------------------')\n",
    "\n",
    "print(pos)\n",
    "#-------------------------- plot rectangels -----------------\n",
    "plt.imshow(image)\n",
    "for i in range(0,len(pos)):\n",
    "    patch=draw_rectangel(pos[i][0]-1,pos[i][1]-1,(pos[i][2]-pos[i][0])+2,(pos[i][3]-pos[i][1])+2)\n",
    "    ax = plt.gca()\n",
    "    ax.add_patch(patch)\n",
    "plt.show()\n",
    "# ========== CODE PROVIDED BY VAHID RAHMANI, DESY, FS-DS GROUP =========="
   ]
  }
 ],
 "metadata": {
  "kernelspec": {
   "display_name": "Python 3",
   "language": "python",
   "name": "python3"
  },
  "language_info": {
   "codemirror_mode": {
    "name": "ipython",
    "version": 3
   },
   "file_extension": ".py",
   "mimetype": "text/x-python",
   "name": "python",
   "nbconvert_exporter": "python",
   "pygments_lexer": "ipython3",
   "version": "3.7.4"
  }
 },
 "nbformat": 4,
 "nbformat_minor": 2
}
